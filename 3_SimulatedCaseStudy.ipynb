{
 "cells": [
  {
   "cell_type": "markdown",
   "id": "488cc2d0",
   "metadata": {},
   "source": [
    "# Case Study - the Probability of a Breast Cancer Diagnoisis being Malignant or Benign "
   ]
  },
  {
   "attachments": {
    "image.png": {
     "image/png": "[encoded data removed]"
    }
   },
   "cell_type": "markdown",
   "id": "3cc5a6dc",
   "metadata": {},
   "source": [
    "![image.png](attachment:image.png)"
   ]
  },
  {
   "cell_type": "markdown",
   "id": "3991cfd0",
   "metadata": {},
   "source": [
    "The objective of this case study is to estimate the probability of a result of a breast cancer diagnosis being malignant or benign. This data simulation is based off the research done in the previous Jupyter Notebooks. \n",
    "\n"
   ]
  },
  {
   "cell_type": "code",
   "execution_count": 1,
   "id": "b6079a6c",
   "metadata": {},
   "outputs": [],
   "source": [
    "import sys \n",
    "\n",
    "sys.path.insert(1, 'src/SetUp/') \n",
    "\n",
    "import PackageInstall  \n",
    "\n",
    "  \n",
    "\n",
    "from PackageInstall import * \n",
    "\n",
    "from Functions import * "
   ]
  },
  {
   "cell_type": "code",
   "execution_count": 2,
   "id": "2f55863f",
   "metadata": {},
   "outputs": [
    {
     "name": "stdout",
     "output_type": "stream",
     "text": [
      "The Probability is: 0.37\n"
     ]
    }
   ],
   "source": [
    "#Probability of the cancer being malignant based of data in 2_BreastCancer_TrendsInBenignAndMalignantCells. Refer to Dataset Describe table for figure \n",
    "\n",
    "getProbability(211, 568) "
   ]
  },
  {
   "cell_type": "code",
   "execution_count": 3,
   "id": "e07f1c75",
   "metadata": {},
   "outputs": [],
   "source": [
    "probability = .37 \n",
    "\n",
    "#num of patients in the trial \n",
    "\n",
    "n = 100 "
   ]
  },
  {
   "cell_type": "code",
   "execution_count": 4,
   "id": "0afba4b0",
   "metadata": {},
   "outputs": [],
   "source": [
    "diagnosisResults = np.arange(n) "
   ]
  },
  {
   "cell_type": "code",
   "execution_count": 5,
   "id": "5cc37701",
   "metadata": {},
   "outputs": [],
   "source": [
    "def malignantVsBenign_probability(p):     \n",
    "\n",
    "    #perform the binomial distribution (returns 0 or 1)     \n",
    "\n",
    "    result = np.random.binomial(1,p)  \n",
    "\n",
    "        \n",
    "\n",
    "    #return result to be added to the array    \n",
    "\n",
    "    return result "
   ]
  },
  {
   "cell_type": "code",
   "execution_count": 6,
   "id": "76e7f0fe",
   "metadata": {},
   "outputs": [],
   "source": [
    "#perform desired numbered of loops at required probability set above \n",
    "\n",
    "for i in range(0, n):     \n",
    "\n",
    "    diagnosisResults[i] = malignantVsBenign_probability(probability)     \n",
    "\n",
    "    i+=1 "
   ]
  },
  {
   "cell_type": "code",
   "execution_count": 7,
   "id": "22f377c8",
   "metadata": {},
   "outputs": [
    {
     "name": "stdout",
     "output_type": "stream",
     "text": [
      "probability of the cancer being malignant  0.37\n",
      "Benign = 0, Malignant = 1:  [0 1 0 1 1 0 0 0 1 0 0 0 1 0 1 0 1 0 1 0 1 1 0 1 0 0 0 0 1 0 1 0 0 1 0 0 0\n",
      " 1 0 0 1 0 0 0 0 0 0 1 1 0 1 1 0 0 0 0 0 0 1 0 0 0 0 0 0 1 1 1 1 0 0 1 0 1\n",
      " 0 1 0 0 0 1 0 0 1 0 1 1 0 0 0 1 0 1 0 0 1 0 0 1 0 0]\n",
      "Malignant:  36\n",
      "BenignCount:  64\n"
     ]
    }
   ],
   "source": [
    "#print results \n",
    "\n",
    "print(\"probability of the cancer being malignant \", probability) \n",
    "\n",
    "print(\"Benign = 0, Malignant = 1: \", diagnosisResults) \n",
    "\n",
    "print(\"Malignant: \", np.count_nonzero(diagnosisResults == 1)) \n",
    "\n",
    "print(\"BenignCount: \", np.count_nonzero(diagnosisResults == 0)) \n",
    "\n",
    " "
   ]
  },
  {
   "cell_type": "markdown",
   "id": "f66ff27b",
   "metadata": {},
   "source": [
    "#### Conclusion\n",
    "Within this project, trending data was synthesised to evaluate the real world phenomon of cancer. The project used multiple python packages such as matplotlib, pandas, numpy, seaborn etc to evaluate the global trends in cancer. From this evaluation it became appearent that breast cancer was the leading cause of cancer and from here a deeper dive into this specific disease revealed correlations and relationships between several parameters between malignant and benign tumors such as radius, area, perimeter, smoothness, compactness, concavity, and symmetry. Finally, a case study was simulated to determine the likelihood of the cancer diagnosis being malignant or benign.  \n",
    "\n",
    "  "
   ]
  },
  {
   "cell_type": "code",
   "execution_count": 8,
   "id": "596bce0c",
   "metadata": {},
   "outputs": [
    {
     "data": {
      "text/plain": [
       "['=========================',\n",
       " '1. BACKGROUND ON TOPIC   ',\n",
       " '=========================',\n",
       " '2.     FUNCTIONALITY     ',\n",
       " '=========================',\n",
       " '2.1.Numpy Probability test https://towardsdatascience.com/how-to-code-a-fair-coin-flip-in-python-d54312f33da9',\n",
       " '=========================',\n",
       " '3. CLEAN-CODE PRACTICES  ',\n",
       " '=========================',\n",
       " '3.1. Solid Principle - https://www.freecodecamp.org/news/solid-principles-explained-in-plain-english/#:~:text=The%20SOLID%20Principles%20are%20five,and%20software%20architecture%20in%20general.',\n",
       " '',\n",
       " '3.2. Clean Code - A HandBook of Agile Software Carftmanship. Robert C Martin page 136. ']"
      ]
     },
     "execution_count": 8,
     "metadata": {},
     "output_type": "execute_result"
    }
   ],
   "source": [
    "ref(\"3_SimulatedCaseStudy\") \n"
   ]
  },
  {
   "cell_type": "code",
   "execution_count": null,
   "id": "db48eb13",
   "metadata": {},
   "outputs": [],
   "source": []
  }
 ],
 "metadata": {
  "kernelspec": {
   "display_name": "Python 3",
   "language": "python",
   "name": "python3"
  },
  "language_info": {
   "codemirror_mode": {
    "name": "ipython",
    "version": 3
   },
   "file_extension": ".py",
   "mimetype": "text/x-python",
   "name": "python",
   "nbconvert_exporter": "python",
   "pygments_lexer": "ipython3",
   "version": "3.11.0 (v3.11.0:deaf509e8f, Oct 24 2022, 14:43:23) [Clang 13.0.0 (clang-1300.0.29.30)]"
  },
  "vscode": {
   "interpreter": {
    "hash": "aee8b7b246df8f9039afb4144a1f6fd8d2ca17a180786b69acc140d282b71a49"
   }
  }
 },
 "nbformat": 4,
 "nbformat_minor": 5
}
